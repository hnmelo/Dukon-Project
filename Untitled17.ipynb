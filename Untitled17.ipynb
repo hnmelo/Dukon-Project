{
  "nbformat": 4,
  "nbformat_minor": 0,
  "metadata": {
    "colab": {
      "name": "Untitled17.ipynb",
      "provenance": [],
      "authorship_tag": "ABX9TyN/KP0wq0QJMKmVdtXQOet8",
      "include_colab_link": true
    },
    "kernelspec": {
      "name": "python3",
      "display_name": "Python 3"
    },
    "language_info": {
      "name": "python"
    }
  },
  "cells": [
    {
      "cell_type": "markdown",
      "metadata": {
        "id": "view-in-github",
        "colab_type": "text"
      },
      "source": [
        "<a href=\"https://colab.research.google.com/github/hnmelo/Dukon-Project/blob/main/Untitled17.ipynb\" target=\"_parent\"><img src=\"https://colab.research.google.com/assets/colab-badge.svg\" alt=\"Open In Colab\"/></a>"
      ]
    },
    {
      "cell_type": "code",
      "metadata": {
        "id": "ErjI2S7YMAAP"
      },
      "source": [
        ""
      ],
      "execution_count": null,
      "outputs": []
    },
    {
      "cell_type": "code",
      "metadata": {
        "id": "TxCyh-wuI4tW"
      },
      "source": [
        "class cuenta():\n",
        "  def __init__(self, saldo):\n",
        "    self.saldo = saldo\n",
        "\n",
        "  def get_Saldo(self):\n",
        "    return self.saldo\n",
        "\n",
        "  def consignacion(self, monto):\n",
        "    self.saldo = self.saldo + monto\n",
        "\n",
        "  def retiro(self, monto):\n",
        "    self.saldo = self.saldo - monto\n",
        "\n",
        "  def validar_monto(self, monto):\n",
        "    valido = 'perfecto'\n",
        "    invalido = 'Acción inválida, saldo insuficiente'\n",
        "    if self.saldo <= monto:\n",
        "      return invalido\n",
        "    else:\n",
        "      return valido\n",
        "  \n",
        "   def transferir(self, cuenta, monto):\n",
        "    if self.validar_monto(monto):\n",
        "      self.saldo = self.saldo - monto\n",
        "      cuenta.saldo = cuenta.saldo + monto\n",
        "    else:\n",
        "      print('Fondos insuficientes')\n",
        "\n",
        "     \n",
        "\n"
      ],
      "execution_count": 1,
      "outputs": []
    },
    {
      "cell_type": "code",
      "metadata": {
        "id": "MosQFtlqLefq"
      },
      "source": [
        "nicole = cuenta(5000)"
      ],
      "execution_count": 2,
      "outputs": []
    },
    {
      "cell_type": "code",
      "metadata": {
        "colab": {
          "base_uri": "https://localhost:8080/"
        },
        "id": "gVxry1sdMunE",
        "outputId": "c1f04df5-81e9-40db-e536-b013b11d2d52"
      },
      "source": [
        "nicole.get_Saldo"
      ],
      "execution_count": 3,
      "outputs": [
        {
          "output_type": "execute_result",
          "data": {
            "text/plain": [
              "<bound method cuenta.get_Saldo of <__main__.cuenta object at 0x7f97e7de8bd0>>"
            ]
          },
          "metadata": {},
          "execution_count": 3
        }
      ]
    }
  ]
}